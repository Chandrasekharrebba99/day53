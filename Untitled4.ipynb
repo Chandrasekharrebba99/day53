{
 "cells": [
  {
   "cell_type": "code",
   "execution_count": 6,
   "id": "29428c6b",
   "metadata": {},
   "outputs": [
    {
     "name": "stdout",
     "output_type": "stream",
     "text": [
      "Enter s and n (separate space)AWESOMENESS 4\n",
      "[['A', 'E'], ['W', 'M', 'N'], ['E', 'O', 'E', 'S'], ['S', 'S']]\n",
      "AE\n",
      "WMN\n",
      "EOES\n",
      "SS\n"
     ]
    }
   ],
   "source": [
    "s_tmp, n_tmp = input(\"Enter s and n (separate space)\").split(' ')\n",
    "s = s_tmp\n",
    "n = int(n_tmp)\n",
    "snake = []\n",
    "number = 0\n",
    "k = 0\n",
    "for i in range(n):\n",
    "    snake.append([])\n",
    "    \n",
    "\n",
    "for i in range(len(s)):\n",
    "    \n",
    "    number += k\n",
    "    if number == 0:\n",
    "        k = 1\n",
    "    elif number == n-1:\n",
    "        k = -1\n",
    "    snake[number].append(s[i])\n",
    "    \n",
    "print(snake)\n",
    "\n",
    "for i in range(n):\n",
    "    for j in range(len(snake[i])):\n",
    "        print(snake[i][j], end='')\n",
    "    print()"
   ]
  },
  {
   "cell_type": "code",
   "execution_count": null,
   "id": "6e2a14a0",
   "metadata": {},
   "outputs": [],
   "source": []
  }
 ],
 "metadata": {
  "kernelspec": {
   "display_name": "Python 3 (ipykernel)",
   "language": "python",
   "name": "python3"
  },
  "language_info": {
   "codemirror_mode": {
    "name": "ipython",
    "version": 3
   },
   "file_extension": ".py",
   "mimetype": "text/x-python",
   "name": "python",
   "nbconvert_exporter": "python",
   "pygments_lexer": "ipython3",
   "version": "3.9.12"
  }
 },
 "nbformat": 4,
 "nbformat_minor": 5
}
